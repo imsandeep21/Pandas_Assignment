{
 "cells": [
  {
   "cell_type": "code",
   "execution_count": 3,
   "id": "a5d09cb2-a22e-49b0-949f-da94bc1a4ad3",
   "metadata": {},
   "outputs": [],
   "source": [
    "import numpy as np"
   ]
  },
  {
   "cell_type": "code",
   "execution_count": 5,
   "id": "af4f13ad-a501-4197-9aa4-d7ca72432b41",
   "metadata": {},
   "outputs": [],
   "source": [
    "import pandas as pd"
   ]
  },
  {
   "cell_type": "code",
   "execution_count": 7,
   "id": "c1aa4469-3406-46af-b1f3-d0e9745c2a0c",
   "metadata": {},
   "outputs": [],
   "source": [
    "df=pd.read_excel(\"C:/Users/Dell/Downloads/Movies_Dataset.xlsx\")"
   ]
  },
  {
   "cell_type": "code",
   "execution_count": 9,
   "id": "a45ed5ae-84f6-4e4f-8dce-ed19bc5531af",
   "metadata": {},
   "outputs": [
    {
     "data": {
      "text/html": [
       "<div>\n",
       "<style scoped>\n",
       "    .dataframe tbody tr th:only-of-type {\n",
       "        vertical-align: middle;\n",
       "    }\n",
       "\n",
       "    .dataframe tbody tr th {\n",
       "        vertical-align: top;\n",
       "    }\n",
       "\n",
       "    .dataframe thead th {\n",
       "        text-align: right;\n",
       "    }\n",
       "</style>\n",
       "<table border=\"1\" class=\"dataframe\">\n",
       "  <thead>\n",
       "    <tr style=\"text-align: right;\">\n",
       "      <th></th>\n",
       "      <th>Movie Name</th>\n",
       "      <th>Genre</th>\n",
       "      <th>Release_Year</th>\n",
       "      <th>IMDb_Rating</th>\n",
       "      <th>Revenue</th>\n",
       "    </tr>\n",
       "  </thead>\n",
       "  <tbody>\n",
       "    <tr>\n",
       "      <th>0</th>\n",
       "      <td>Movie 1</td>\n",
       "      <td>Sci-Fi</td>\n",
       "      <td>2000</td>\n",
       "      <td>6.0</td>\n",
       "      <td>1680.53</td>\n",
       "    </tr>\n",
       "    <tr>\n",
       "      <th>1</th>\n",
       "      <td>Movie 2</td>\n",
       "      <td>Adventure</td>\n",
       "      <td>2000</td>\n",
       "      <td>2.2</td>\n",
       "      <td>987.24</td>\n",
       "    </tr>\n",
       "    <tr>\n",
       "      <th>2</th>\n",
       "      <td>Movie 3</td>\n",
       "      <td>Romance</td>\n",
       "      <td>2002</td>\n",
       "      <td>5.2</td>\n",
       "      <td>1122.13</td>\n",
       "    </tr>\n",
       "    <tr>\n",
       "      <th>3</th>\n",
       "      <td>Movie 4</td>\n",
       "      <td>Romance</td>\n",
       "      <td>2001</td>\n",
       "      <td>4.5</td>\n",
       "      <td>581.84</td>\n",
       "    </tr>\n",
       "    <tr>\n",
       "      <th>4</th>\n",
       "      <td>Movie 5</td>\n",
       "      <td>Action</td>\n",
       "      <td>2012</td>\n",
       "      <td>6.6</td>\n",
       "      <td>1205.51</td>\n",
       "    </tr>\n",
       "    <tr>\n",
       "      <th>...</th>\n",
       "      <td>...</td>\n",
       "      <td>...</td>\n",
       "      <td>...</td>\n",
       "      <td>...</td>\n",
       "      <td>...</td>\n",
       "    </tr>\n",
       "    <tr>\n",
       "      <th>995</th>\n",
       "      <td>Movie 996</td>\n",
       "      <td>Sci-Fi</td>\n",
       "      <td>2013</td>\n",
       "      <td>8.7</td>\n",
       "      <td>456.39</td>\n",
       "    </tr>\n",
       "    <tr>\n",
       "      <th>996</th>\n",
       "      <td>Movie 997</td>\n",
       "      <td>Adventure</td>\n",
       "      <td>1993</td>\n",
       "      <td>6.2</td>\n",
       "      <td>1255.27</td>\n",
       "    </tr>\n",
       "    <tr>\n",
       "      <th>997</th>\n",
       "      <td>Movie 998</td>\n",
       "      <td>Fantasy</td>\n",
       "      <td>2016</td>\n",
       "      <td>8.1</td>\n",
       "      <td>1161.96</td>\n",
       "    </tr>\n",
       "    <tr>\n",
       "      <th>998</th>\n",
       "      <td>Movie 999</td>\n",
       "      <td>Action</td>\n",
       "      <td>1996</td>\n",
       "      <td>8.9</td>\n",
       "      <td>941.67</td>\n",
       "    </tr>\n",
       "    <tr>\n",
       "      <th>999</th>\n",
       "      <td>Movie 1000</td>\n",
       "      <td>Horror</td>\n",
       "      <td>1995</td>\n",
       "      <td>9.4</td>\n",
       "      <td>1390.70</td>\n",
       "    </tr>\n",
       "  </tbody>\n",
       "</table>\n",
       "<p>1000 rows × 5 columns</p>\n",
       "</div>"
      ],
      "text/plain": [
       "     Movie Name      Genre  Release_Year  IMDb_Rating  Revenue\n",
       "0       Movie 1     Sci-Fi          2000          6.0  1680.53\n",
       "1       Movie 2  Adventure          2000          2.2   987.24\n",
       "2       Movie 3    Romance          2002          5.2  1122.13\n",
       "3       Movie 4    Romance          2001          4.5   581.84\n",
       "4       Movie 5     Action          2012          6.6  1205.51\n",
       "..          ...        ...           ...          ...      ...\n",
       "995   Movie 996     Sci-Fi          2013          8.7   456.39\n",
       "996   Movie 997  Adventure          1993          6.2  1255.27\n",
       "997   Movie 998    Fantasy          2016          8.1  1161.96\n",
       "998   Movie 999     Action          1996          8.9   941.67\n",
       "999  Movie 1000     Horror          1995          9.4  1390.70\n",
       "\n",
       "[1000 rows x 5 columns]"
      ]
     },
     "execution_count": 9,
     "metadata": {},
     "output_type": "execute_result"
    }
   ],
   "source": [
    "df"
   ]
  },
  {
   "cell_type": "markdown",
   "id": "daffac1f-5e0a-4f6b-a7b0-103b21b44e0c",
   "metadata": {},
   "source": [
    "## 1.  Select all movies in the \"Action\" genre."
   ]
  },
  {
   "cell_type": "code",
   "execution_count": 20,
   "id": "50c46e03-72e7-4d98-b074-924839be66ea",
   "metadata": {},
   "outputs": [
    {
     "name": "stdout",
     "output_type": "stream",
     "text": [
      "    Movie Name   Genre  Release_Year  IMDb_Rating  Revenue\n",
      "4      Movie 5  Action          2012          6.6  1205.51\n",
      "34    Movie 35  Action          2009          8.7   545.60\n",
      "64    Movie 65  Action          2023          7.7  1137.79\n",
      "65    Movie 66  Action          1999          3.1  1335.85\n",
      "73    Movie 74  Action          2001          4.1   350.80\n",
      "..         ...     ...           ...          ...      ...\n",
      "930  Movie 931  Action          1994          8.6  1863.66\n",
      "944  Movie 945  Action          2004          7.5  1709.81\n",
      "980  Movie 981  Action          2022          5.2    28.40\n",
      "988  Movie 989  Action          2023          4.1   231.67\n",
      "998  Movie 999  Action          1996          8.9   941.67\n",
      "\n",
      "[104 rows x 5 columns]\n"
     ]
    }
   ],
   "source": [
    "action_movies = df[df['Genre'] == 'Action']\n",
    "print(action_movies)"
   ]
  },
  {
   "cell_type": "markdown",
   "id": "dc573f42-c66c-45f7-951f-b63357173fa3",
   "metadata": {},
   "source": [
    "## 2. Select movies released after 2000."
   ]
  },
  {
   "cell_type": "code",
   "execution_count": 23,
   "id": "2138d21a-10b3-4000-8ef0-6ee2db586dc2",
   "metadata": {},
   "outputs": [
    {
     "name": "stdout",
     "output_type": "stream",
     "text": [
      "    Movie Name     Genre  Release_Year  IMDb_Rating  Revenue\n",
      "2      Movie 3   Romance          2002          5.2  1122.13\n",
      "3      Movie 4   Romance          2001          4.5   581.84\n",
      "4      Movie 5    Action          2012          6.6  1205.51\n",
      "6      Movie 7   Mystery          2021          5.1  1683.99\n",
      "7      Movie 8    Comedy          2005          4.0  1062.13\n",
      "..         ...       ...           ...          ...      ...\n",
      "988  Movie 989    Action          2023          4.1   231.67\n",
      "989  Movie 990   Fantasy          2004          1.6  1056.58\n",
      "991  Movie 992  Thriller          2004          9.2   251.25\n",
      "995  Movie 996    Sci-Fi          2013          8.7   456.39\n",
      "997  Movie 998   Fantasy          2016          8.1  1161.96\n",
      "\n",
      "[518 rows x 5 columns]\n"
     ]
    }
   ],
   "source": [
    "df1 = df[df['Release_Year'] > 2000]\n",
    "print(df1)"
   ]
  },
  {
   "cell_type": "markdown",
   "id": "72607783-a490-4613-a352-3b2bca4fb1a7",
   "metadata": {},
   "source": [
    "## 3. Select movies with an IMDb rating greater than 8.5."
   ]
  },
  {
   "cell_type": "code",
   "execution_count": 26,
   "id": "284691a5-0f1b-46fe-a565-a2737ad217c2",
   "metadata": {},
   "outputs": [
    {
     "name": "stdout",
     "output_type": "stream",
     "text": [
      "     Movie Name      Genre  Release_Year  IMDb_Rating  Revenue\n",
      "34     Movie 35     Action          2009          8.7   545.60\n",
      "51     Movie 52    Mystery          1998          9.0  1089.93\n",
      "56     Movie 57     Comedy          1993          9.2  1586.13\n",
      "74     Movie 75  Adventure          1999          8.6  1688.49\n",
      "81     Movie 82    Mystery          1997          8.6  1238.32\n",
      "..          ...        ...           ...          ...      ...\n",
      "991   Movie 992   Thriller          2004          9.2   251.25\n",
      "992   Movie 993     Horror          1985          9.6   951.23\n",
      "995   Movie 996     Sci-Fi          2013          8.7   456.39\n",
      "998   Movie 999     Action          1996          8.9   941.67\n",
      "999  Movie 1000     Horror          1995          9.4  1390.70\n",
      "\n",
      "[148 rows x 5 columns]\n"
     ]
    }
   ],
   "source": [
    "highly_rated_movies = df[df['IMDb_Rating'] > 8.5]\n",
    "print(highly_rated_movies)"
   ]
  },
  {
   "cell_type": "markdown",
   "id": "997c67ef-5b2a-44d8-bc4f-d4522523e9bc",
   "metadata": {},
   "source": [
    "## 4. Select only \"Movie Name\" and \"Genre\" columns."
   ]
  },
  {
   "cell_type": "code",
   "execution_count": 29,
   "id": "9671165e-e09e-4661-aa43-4dfb318ff5ab",
   "metadata": {},
   "outputs": [
    {
     "name": "stdout",
     "output_type": "stream",
     "text": [
      "     Movie Name      Genre\n",
      "0       Movie 1     Sci-Fi\n",
      "1       Movie 2  Adventure\n",
      "2       Movie 3    Romance\n",
      "3       Movie 4    Romance\n",
      "4       Movie 5     Action\n",
      "..          ...        ...\n",
      "995   Movie 996     Sci-Fi\n",
      "996   Movie 997  Adventure\n",
      "997   Movie 998    Fantasy\n",
      "998   Movie 999     Action\n",
      "999  Movie 1000     Horror\n",
      "\n",
      "[1000 rows x 2 columns]\n"
     ]
    }
   ],
   "source": [
    "selected_columns_df = df[['Movie Name', 'Genre']]\n",
    "print(selected_columns_df)"
   ]
  },
  {
   "cell_type": "markdown",
   "id": "70c51ac7-edaf-4812-b0b6-23f42c4d61a6",
   "metadata": {},
   "source": [
    "## 5. Select movies released between 1990 and 2010."
   ]
  },
  {
   "cell_type": "code",
   "execution_count": 32,
   "id": "1bc56a2f-f53b-4695-86a1-076cc254e5f3",
   "metadata": {},
   "outputs": [
    {
     "name": "stdout",
     "output_type": "stream",
     "text": [
      "     Movie Name      Genre  Release_Year  IMDb_Rating  Revenue\n",
      "0       Movie 1     Sci-Fi          2000          6.0  1680.53\n",
      "1       Movie 2  Adventure          2000          2.2   987.24\n",
      "2       Movie 3    Romance          2002          5.2  1122.13\n",
      "3       Movie 4    Romance          2001          4.5   581.84\n",
      "5       Movie 6    Fantasy          1997          2.4   485.22\n",
      "..          ...        ...           ...          ...      ...\n",
      "991   Movie 992   Thriller          2004          9.2   251.25\n",
      "994   Movie 995     Sci-Fi          1997          2.0   342.98\n",
      "996   Movie 997  Adventure          1993          6.2  1255.27\n",
      "998   Movie 999     Action          1996          8.9   941.67\n",
      "999  Movie 1000     Horror          1995          9.4  1390.70\n",
      "\n",
      "[500 rows x 5 columns]\n"
     ]
    }
   ],
   "source": [
    "movies_between_1990_and_2010 = df[(df['Release_Year'] >= 1990) & (df['Release_Year'] <= 2010)]\n",
    "print(movies_between_1990_and_2010)"
   ]
  },
  {
   "cell_type": "markdown",
   "id": "521167ba-191e-4fcb-bb7d-0d07ac05d8a1",
   "metadata": {},
   "source": [
    "## 6. Count the number of movies in each genre."
   ]
  },
  {
   "cell_type": "code",
   "execution_count": 35,
   "id": "625d102f-0b60-49cd-9770-966d04a8994a",
   "metadata": {},
   "outputs": [
    {
     "name": "stdout",
     "output_type": "stream",
     "text": [
      "Genre\n",
      "Drama        113\n",
      "Comedy       110\n",
      "Fantasy      107\n",
      "Thriller     107\n",
      "Action       104\n",
      "Adventure     96\n",
      "Sci-Fi        93\n",
      "Romance       91\n",
      "Horror        90\n",
      "Mystery       89\n",
      "Name: count, dtype: int64\n"
     ]
    }
   ],
   "source": [
    "genre_counts = df['Genre'].value_counts()\n",
    "print(genre_counts)"
   ]
  },
  {
   "cell_type": "markdown",
   "id": "340237e2-c232-4154-8e31-df44e98c401f",
   "metadata": {},
   "source": [
    "## 7. Find the highest IMDb-rated movie."
   ]
  },
  {
   "cell_type": "code",
   "execution_count": 38,
   "id": "55d170de-c0de-48e0-88a5-cbd77c0be2fb",
   "metadata": {},
   "outputs": [
    {
     "name": "stdout",
     "output_type": "stream",
     "text": [
      "    Movie Name    Genre  Release_Year  IMDb_Rating  Revenue\n",
      "106  Movie 107  Romance          2007         10.0  1837.45\n",
      "241  Movie 242   Comedy          2006         10.0   802.61\n",
      "472  Movie 473  Fantasy          1985         10.0   845.18\n",
      "564  Movie 565   Action          2020         10.0   943.50\n",
      "610  Movie 611  Mystery          2017         10.0  1355.06\n",
      "628  Movie 629  Mystery          1994         10.0   644.31\n"
     ]
    }
   ],
   "source": [
    "highest_rated_movie = df[df['IMDb_Rating'] == df['IMDb_Rating'].max()]\n",
    "print(highest_rated_movie)"
   ]
  },
  {
   "cell_type": "markdown",
   "id": "077f031f-e9e4-4bfc-bb03-1d3b05077ca4",
   "metadata": {},
   "source": [
    "## 8. Find the average IMDb rating of all movies."
   ]
  },
  {
   "cell_type": "code",
   "execution_count": 43,
   "id": "ea84cc2a-5553-4f88-9ee7-8920138232c4",
   "metadata": {},
   "outputs": [
    {
     "name": "stdout",
     "output_type": "stream",
     "text": [
      "The average IMDb rating of all movies is: 5.46\n"
     ]
    }
   ],
   "source": [
    "average_rating = df['IMDb_Rating'].mean()\n",
    "print(f\"The average IMDb rating of all movies is: {average_rating:.2f}\")"
   ]
  },
  {
   "cell_type": "markdown",
   "id": "5a11ca95-b565-401a-aa74-33eab6b8ce84",
   "metadata": {},
   "source": [
    "## 9. Find the total box office collection of all movies."
   ]
  },
  {
   "cell_type": "code",
   "execution_count": 46,
   "id": "7ee27403-3ca3-441e-858a-846343c1e226",
   "metadata": {},
   "outputs": [
    {
     "name": "stdout",
     "output_type": "stream",
     "text": [
      "The total box office collection of all movies is: 1049716.26\n"
     ]
    }
   ],
   "source": [
    "total_box_office_collection = df['Revenue'].sum()\n",
    "print(f\"The total box office collection of all movies is: {total_box_office_collection}\")"
   ]
  },
  {
   "cell_type": "markdown",
   "id": "3e1c954f-0f32-4f82-84fe-35fe590064fc",
   "metadata": {},
   "source": [
    "## 10. Select movies with box office earnings greater than 500 million."
   ]
  },
  {
   "cell_type": "code",
   "execution_count": 49,
   "id": "24e3c97a-a8b3-495c-b2d1-ad8b4ed8c68e",
   "metadata": {},
   "outputs": [
    {
     "name": "stdout",
     "output_type": "stream",
     "text": [
      "     Movie Name      Genre  Release_Year  IMDb_Rating  Revenue\n",
      "0       Movie 1     Sci-Fi          2000          6.0  1680.53\n",
      "1       Movie 2  Adventure          2000          2.2   987.24\n",
      "2       Movie 3    Romance          2002          5.2  1122.13\n",
      "3       Movie 4    Romance          2001          4.5   581.84\n",
      "4       Movie 5     Action          2012          6.6  1205.51\n",
      "..          ...        ...           ...          ...      ...\n",
      "993   Movie 994  Adventure          1989          7.3  1273.65\n",
      "996   Movie 997  Adventure          1993          6.2  1255.27\n",
      "997   Movie 998    Fantasy          2016          8.1  1161.96\n",
      "998   Movie 999     Action          1996          8.9   941.67\n",
      "999  Movie 1000     Horror          1995          9.4  1390.70\n",
      "\n",
      "[774 rows x 5 columns]\n"
     ]
    }
   ],
   "source": [
    "high_earning_movies = df[df['Revenue'] > 500]\n",
    "print(high_earning_movies)"
   ]
  },
  {
   "cell_type": "markdown",
   "id": "75118b30-37e8-4124-b75d-5ed43180be63",
   "metadata": {},
   "source": [
    "## 11. Rank movies based on IMDb rating."
   ]
  },
  {
   "cell_type": "code",
   "execution_count": 52,
   "id": "daa8d75a-6a13-41f5-8dab-926c9af15158",
   "metadata": {},
   "outputs": [
    {
     "name": "stdout",
     "output_type": "stream",
     "text": [
      "    Movie Name      Genre  Release_Year  IMDb_Rating   Rank\n",
      "628  Movie 629    Mystery          1994         10.0    3.5\n",
      "610  Movie 611    Mystery          2017         10.0    3.5\n",
      "472  Movie 473    Fantasy          1985         10.0    3.5\n",
      "241  Movie 242     Comedy          2006         10.0    3.5\n",
      "564  Movie 565     Action          2020         10.0    3.5\n",
      "..         ...        ...           ...          ...    ...\n",
      "758  Movie 759     Horror          2000          1.0  997.5\n",
      "297  Movie 298     Comedy          2006          1.0  997.5\n",
      "699  Movie 700   Thriller          1984          1.0  997.5\n",
      "577  Movie 578     Action          1999          1.0  997.5\n",
      "80    Movie 81  Adventure          2002          1.0  997.5\n",
      "\n",
      "[1000 rows x 5 columns]\n"
     ]
    }
   ],
   "source": [
    "df['Rank'] = df['IMDb_Rating'].rank(ascending=False)\n",
    "ranked_movies = df.sort_values(by='Rank')\n",
    "print(ranked_movies[['Movie Name', 'Genre', 'Release_Year', 'IMDb_Rating', 'Rank']])"
   ]
  },
  {
   "cell_type": "markdown",
   "id": "a6aea556-e0e4-45d3-8339-22c0da12cabc",
   "metadata": {},
   "source": [
    "## 12. Sort movies by release year in descending order."
   ]
  },
  {
   "cell_type": "code",
   "execution_count": 55,
   "id": "515ca09d-2596-43f3-84b3-9bff170e6141",
   "metadata": {},
   "outputs": [
    {
     "name": "stdout",
     "output_type": "stream",
     "text": [
      "    Movie Name      Genre  Release_Year  IMDb_Rating  Revenue   Rank\n",
      "320  Movie 321    Romance          2024          4.2   477.47  650.5\n",
      "211  Movie 212     Comedy          2024          1.5   837.32  957.0\n",
      "489  Movie 490   Thriller          2024          3.2  1536.79  765.5\n",
      "808  Movie 809     Action          2024          6.0   714.96  432.5\n",
      "917  Movie 918     Horror          2024          1.1  1042.80  991.0\n",
      "..         ...        ...           ...          ...      ...    ...\n",
      "509  Movie 510    Fantasy          1980          6.3  1260.11  392.0\n",
      "798  Movie 799      Drama          1980          3.1  1587.13  774.0\n",
      "496  Movie 497    Fantasy          1980          4.7  1683.97  588.0\n",
      "794  Movie 795  Adventure          1980          4.5  1346.01  609.5\n",
      "170  Movie 171    Mystery          1980          4.6  1684.78  599.0\n",
      "\n",
      "[1000 rows x 6 columns]\n"
     ]
    }
   ],
   "source": [
    "sorted_movies = df.sort_values(by='Release_Year', ascending=False)\n",
    "print(sorted_movies)"
   ]
  },
  {
   "cell_type": "markdown",
   "id": "ec7773ed-bc9d-41d9-a76a-d9b36134f8cb",
   "metadata": {},
   "source": [
    "## 13. Find all duplicate movie names (if any)."
   ]
  },
  {
   "cell_type": "code",
   "execution_count": 58,
   "id": "6bd344b5-829f-4988-9e23-d237d185fb4e",
   "metadata": {},
   "outputs": [
    {
     "name": "stdout",
     "output_type": "stream",
     "text": [
      "   Movie Name      Genre  Release_Year  IMDb_Rating  Revenue   Rank\n",
      "9    Movie 10      Drama          1996          3.2  1352.66  765.5\n",
      "10   Movie 11    Mystery          2003          6.3   596.43  392.0\n",
      "11   Movie 12     Sci-Fi          1988          3.0  1134.01  786.5\n",
      "12   Movie 10      Drama          1996          3.2  1352.66  765.5\n",
      "13   Movie 11    Mystery          2003          6.3   596.43  392.0\n",
      "14   Movie 12     Sci-Fi          1988          3.0  1134.01  786.5\n",
      "15   Movie 16     Comedy          2006          2.3  1322.79  856.0\n",
      "16   Movie 17     Horror          2007          6.2  1114.31  406.5\n",
      "17   Movie 18  Adventure          1998          7.9  1426.73  221.0\n",
      "18   Movie 19     Comedy          1986          6.0  1783.44  432.5\n",
      "19   Movie 20    Fantasy          1982          6.9  1598.08  329.0\n",
      "20   Movie 16     Comedy          2006          2.3  1322.79  856.0\n",
      "21   Movie 17     Horror          2007          6.2  1114.31  406.5\n",
      "22   Movie 18  Adventure          1998          7.9  1426.73  221.0\n",
      "23   Movie 19     Comedy          1986          6.0  1783.44  432.5\n",
      "24   Movie 20    Fantasy          1982          6.9  1598.08  329.0\n"
     ]
    }
   ],
   "source": [
    "duplicate_movies = df[df.duplicated(subset=['Movie Name'], keep=False)]\n",
    "print(duplicate_movies)"
   ]
  },
  {
   "cell_type": "markdown",
   "id": "4ec9970a-0239-49fd-bce1-576e506a6396",
   "metadata": {},
   "source": [
    "## 14. Remove duplicate movie names."
   ]
  },
  {
   "cell_type": "code",
   "execution_count": 61,
   "id": "88a5ec67-eecd-42a5-98f5-29bd3578318d",
   "metadata": {},
   "outputs": [
    {
     "name": "stdout",
     "output_type": "stream",
     "text": [
      "     Movie Name      Genre  Release_Year  IMDb_Rating  Revenue   Rank\n",
      "0       Movie 1     Sci-Fi          2000          6.0  1680.53  432.5\n",
      "1       Movie 2  Adventure          2000          2.2   987.24  869.0\n",
      "2       Movie 3    Romance          2002          5.2  1122.13  529.5\n",
      "3       Movie 4    Romance          2001          4.5   581.84  609.5\n",
      "4       Movie 5     Action          2012          6.6  1205.51  353.5\n",
      "..          ...        ...           ...          ...      ...    ...\n",
      "995   Movie 996     Sci-Fi          2013          8.7   456.39  131.5\n",
      "996   Movie 997  Adventure          1993          6.2  1255.27  406.5\n",
      "997   Movie 998    Fantasy          2016          8.1  1161.96  199.5\n",
      "998   Movie 999     Action          1996          8.9   941.67  104.5\n",
      "999  Movie 1000     Horror          1995          9.4  1390.70   54.0\n",
      "\n",
      "[992 rows x 6 columns]\n"
     ]
    }
   ],
   "source": [
    "unique_movies = df.drop_duplicates(subset=['Movie Name'], keep='first')\n",
    "print(unique_movies)"
   ]
  },
  {
   "cell_type": "markdown",
   "id": "cf8aef42-69ab-4985-8333-dff366220138",
   "metadata": {},
   "source": [
    "## 15. Replace \"Sci-Fi\" genre with \"Science Fiction\"."
   ]
  },
  {
   "cell_type": "code",
   "execution_count": 64,
   "id": "c4513b2c-546b-4a8f-a4fb-9fe1fd319aef",
   "metadata": {},
   "outputs": [
    {
     "name": "stdout",
     "output_type": "stream",
     "text": [
      "     Movie Name            Genre  Release_Year  IMDb_Rating  Revenue   Rank\n",
      "0       Movie 1  Science Fiction          2000          6.0  1680.53  432.5\n",
      "1       Movie 2        Adventure          2000          2.2   987.24  869.0\n",
      "2       Movie 3          Romance          2002          5.2  1122.13  529.5\n",
      "3       Movie 4          Romance          2001          4.5   581.84  609.5\n",
      "4       Movie 5           Action          2012          6.6  1205.51  353.5\n",
      "..          ...              ...           ...          ...      ...    ...\n",
      "995   Movie 996  Science Fiction          2013          8.7   456.39  131.5\n",
      "996   Movie 997        Adventure          1993          6.2  1255.27  406.5\n",
      "997   Movie 998          Fantasy          2016          8.1  1161.96  199.5\n",
      "998   Movie 999           Action          1996          8.9   941.67  104.5\n",
      "999  Movie 1000           Horror          1995          9.4  1390.70   54.0\n",
      "\n",
      "[1000 rows x 6 columns]\n"
     ]
    }
   ],
   "source": [
    "df['Genre'] = df['Genre'].replace(\"Sci-Fi\", \"Science Fiction\")\n",
    "print(df)"
   ]
  },
  {
   "cell_type": "markdown",
   "id": "545b2123-13d7-4de2-b15d-4a56b50cdfe9",
   "metadata": {},
   "source": [
    "## 16. Select the first 10 movies."
   ]
  },
  {
   "cell_type": "code",
   "execution_count": 67,
   "id": "261778b7-5ed3-4c28-b53c-8409c3b7540d",
   "metadata": {},
   "outputs": [
    {
     "name": "stdout",
     "output_type": "stream",
     "text": [
      "  Movie Name            Genre  Release_Year  IMDb_Rating  Revenue   Rank\n",
      "0    Movie 1  Science Fiction          2000          6.0  1680.53  432.5\n",
      "1    Movie 2        Adventure          2000          2.2   987.24  869.0\n",
      "2    Movie 3          Romance          2002          5.2  1122.13  529.5\n",
      "3    Movie 4          Romance          2001          4.5   581.84  609.5\n",
      "4    Movie 5           Action          2012          6.6  1205.51  353.5\n",
      "5    Movie 6          Fantasy          1997          2.4   485.22  844.5\n",
      "6    Movie 7          Mystery          2021          5.1  1683.99  545.5\n",
      "7    Movie 8           Comedy          2005          4.0  1062.13  672.5\n",
      "8    Movie 9           Horror          1992          2.8  1592.74  815.0\n",
      "9   Movie 10            Drama          1996          3.2  1352.66  765.5\n"
     ]
    }
   ],
   "source": [
    "df = df.head(10)\n",
    "print(df)"
   ]
  },
  {
   "cell_type": "markdown",
   "id": "65fb7766-8727-40b7-8ea3-dce14941c97f",
   "metadata": {},
   "source": [
    "## 17. Select the last 5 movies."
   ]
  },
  {
   "cell_type": "code",
   "execution_count": 70,
   "id": "2602111d-76bf-44d2-8e1f-455ba64aae51",
   "metadata": {},
   "outputs": [
    {
     "name": "stdout",
     "output_type": "stream",
     "text": [
      "  Movie Name    Genre  Release_Year  IMDb_Rating  Revenue   Rank\n",
      "5    Movie 6  Fantasy          1997          2.4   485.22  844.5\n",
      "6    Movie 7  Mystery          2021          5.1  1683.99  545.5\n",
      "7    Movie 8   Comedy          2005          4.0  1062.13  672.5\n",
      "8    Movie 9   Horror          1992          2.8  1592.74  815.0\n",
      "9   Movie 10    Drama          1996          3.2  1352.66  765.5\n"
     ]
    }
   ],
   "source": [
    "last_5_movies = df.tail(5)\n",
    "print(last_5_movies)"
   ]
  },
  {
   "cell_type": "markdown",
   "id": "623c99c7-6117-40e8-8b05-9c6cd4e7df0a",
   "metadata": {},
   "source": [
    "## 18. Group movies by genre and find the average IMDb rating for each genre."
   ]
  },
  {
   "cell_type": "code",
   "execution_count": 73,
   "id": "08bfe03d-d779-4951-a7dd-2d85dee122ea",
   "metadata": {},
   "outputs": [
    {
     "name": "stdout",
     "output_type": "stream",
     "text": [
      "Genre\n",
      "Action             6.60\n",
      "Adventure          2.20\n",
      "Comedy             4.00\n",
      "Drama              3.20\n",
      "Fantasy            2.40\n",
      "Horror             2.80\n",
      "Mystery            5.10\n",
      "Romance            4.85\n",
      "Science Fiction    6.00\n",
      "Name: IMDb_Rating, dtype: float64\n"
     ]
    }
   ],
   "source": [
    "average_imdb_rating_by_genre = df.groupby('Genre')['IMDb_Rating'].mean()\n",
    "print(average_imdb_rating_by_genre)"
   ]
  },
  {
   "cell_type": "markdown",
   "id": "94931e38-1d3f-4926-9243-4c817350658e",
   "metadata": {},
   "source": [
    "## 19. Find the number of movies released in each year. "
   ]
  },
  {
   "cell_type": "code",
   "execution_count": 76,
   "id": "6471aab7-4aa3-4745-a183-1d04bb085422",
   "metadata": {},
   "outputs": [
    {
     "name": "stdout",
     "output_type": "stream",
     "text": [
      "Release_Year\n",
      "1992    1\n",
      "1996    1\n",
      "1997    1\n",
      "2000    2\n",
      "2001    1\n",
      "2002    1\n",
      "2005    1\n",
      "2012    1\n",
      "2021    1\n",
      "Name: count, dtype: int64\n"
     ]
    }
   ],
   "source": [
    "movies_per_year = df['Release_Year'].value_counts().sort_index()\n",
    "print(movies_per_year)"
   ]
  },
  {
   "cell_type": "markdown",
   "id": "37350928-c729-4acc-b5ac-72beff76fa18",
   "metadata": {},
   "source": [
    "## 20. Find the total box office collection per genre."
   ]
  },
  {
   "cell_type": "code",
   "execution_count": 79,
   "id": "0609a6d7-accd-446d-b11a-3014514d4239",
   "metadata": {},
   "outputs": [
    {
     "name": "stdout",
     "output_type": "stream",
     "text": [
      "Genre\n",
      "Action             1205.51\n",
      "Adventure           987.24\n",
      "Comedy             1062.13\n",
      "Drama              1352.66\n",
      "Fantasy             485.22\n",
      "Horror             1592.74\n",
      "Mystery            1683.99\n",
      "Romance            1703.97\n",
      "Science Fiction    1680.53\n",
      "Name: Revenue, dtype: float64\n"
     ]
    }
   ],
   "source": [
    "total_box_office_per_genre = df.groupby('Genre')['Revenue'].sum()\n",
    "print(total_box_office_per_genre)"
   ]
  }
 ],
 "metadata": {
  "kernelspec": {
   "display_name": "Python [conda env:base] *",
   "language": "python",
   "name": "conda-base-py"
  },
  "language_info": {
   "codemirror_mode": {
    "name": "ipython",
    "version": 3
   },
   "file_extension": ".py",
   "mimetype": "text/x-python",
   "name": "python",
   "nbconvert_exporter": "python",
   "pygments_lexer": "ipython3",
   "version": "3.12.7"
  }
 },
 "nbformat": 4,
 "nbformat_minor": 5
}
